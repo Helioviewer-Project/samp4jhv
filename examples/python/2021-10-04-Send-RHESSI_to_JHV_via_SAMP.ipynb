{
 "cells": [
  {
   "cell_type": "markdown",
   "metadata": {},
   "source": [
    "### Sample UseCase to send RHESSI limb flare to JHV\n",
    "S. Laube, FHNW\n",
    "\n",
    "This is a demo for the [samp4jhv package](https://github.com/Helioviewer-Project/samp4jhv). JHV stands for JHelioviewer, SAMP is a mechanism to transfer data from an application to another.\n",
    "\n",
    "The demo requires the following packages:\n",
    "- astropy 4.1+\n",
    "- sunpy 2.0+  \n",
    "- sunkit-instruments 0.2+  \n",
    "- pyvo  \n",
    "\n",
    "\n",
    " **Also, make sure you are running JHelioviewer 4.0 or higher - the app has to be open during execution of this script**"
   ]
  },
  {
   "cell_type": "code",
   "execution_count": 1,
   "metadata": {},
   "outputs": [
    {
     "name": "stdout",
     "output_type": "stream",
     "text": [
      "C:\\Projects\\JHV\\Python\\samp4jhv\n"
     ]
    }
   ],
   "source": [
    "%cd ../..\n",
    "# use magic jupyter command to move to root directory of the samp4jhv module\n",
    "\n",
    "import pyvo\n",
    "from sunkit_instruments.rhessi import imagecube2map # requires sunkit-instruments v0.2\n",
    "from samp4jhv import SAMP4JHVClient"
   ]
  },
  {
   "cell_type": "code",
   "execution_count": 2,
   "metadata": {},
   "outputs": [
    {
     "name": "stderr",
     "output_type": "stream",
     "text": [
      "WARNING: UnitsWarning: Unit 'c' not supported by the VOUnit standard. Did you mean C? [astropy.units.format.vounit]\n",
      "WARNING: UnitsWarning: Unit 'asec' not supported by the VOUnit standard. Did you mean arcsec? [astropy.units.format.vounit]\n"
     ]
    },
    {
     "data": {
      "text/plain": [
       "<Table length=114>\n",
       " granule_uid                 granule_gid               ... goes_class limb_flare\n",
       "                                                       ...                      \n",
       "    object                      object                 ...   object      bool   \n",
       "-------------- --------------------------------------- ... ---------- ----------\n",
       " 2030712_clean RHESSI flare image reconstruction CLEAN ...       C2.5       True\n",
       " 2032819_clean RHESSI flare image reconstruction CLEAN ...       C7.6       True\n",
       " 2040411_clean RHESSI flare image reconstruction CLEAN ...       M1.4       True\n",
       " 2040413_clean RHESSI flare image reconstruction CLEAN ...       M6.1       True\n",
       " 2041871_clean RHESSI flare image reconstruction CLEAN ...      C9.4*       True\n",
       " 2042204_clean RHESSI flare image reconstruction CLEAN ...       C2.8       True\n",
       " 2042985_clean RHESSI flare image reconstruction CLEAN ...       C2.2       True\n",
       " 2043001_clean RHESSI flare image reconstruction CLEAN ...       C7.8       True\n",
       " 2043004_clean RHESSI flare image reconstruction CLEAN ...       M1.3       True\n",
       "           ...                                     ... ...        ...        ...\n",
       "15101735_clean RHESSI flare image reconstruction CLEAN ...                  True\n",
       "15101748_clean RHESSI flare image reconstruction CLEAN ...       C6.6       True\n",
       "15103031_clean RHESSI flare image reconstruction CLEAN ...                  True\n",
       "15120912_clean RHESSI flare image reconstruction CLEAN ...      C1.2*       True\n",
       "15121262_clean RHESSI flare image reconstruction CLEAN ...      C5.2*       True\n",
       "15121222_clean RHESSI flare image reconstruction CLEAN ...       C2.1       True\n",
       "15121909_clean RHESSI flare image reconstruction CLEAN ...       C1.7       True\n",
       "15122009_clean RHESSI flare image reconstruction CLEAN ...      C3.8*       True\n",
       "15122020_clean RHESSI flare image reconstruction CLEAN ...                  True\n",
       "15122032_clean RHESSI flare image reconstruction CLEAN ...       C6.0       True"
      ]
     },
     "execution_count": 2,
     "metadata": {},
     "output_type": "execute_result"
    }
   ],
   "source": [
    "serv = pyvo.dal.TAPService(\"https://tap.cs.technik.fhnw.ch/tap\")\n",
    "r = serv.run_sync(\"SELECT * FROM rhessi_flares.epn_core WHERE granule_uid LIKE '%_clean' and limb_flare = 'True'\")\n",
    "r"
   ]
  },
  {
   "cell_type": "code",
   "execution_count": 3,
   "metadata": {},
   "outputs": [
    {
     "name": "stdout",
     "output_type": "stream",
     "text": [
      "preview: https://hesperia.gsfc.nasa.gov/rhessi_extras/flare_images/2015/12/20/20151220_2228_2248/CLEAN/hsi_image_panels_scaled_20151220_2228_2248_13tx3e.jpeg\n",
      "FITS-access: https://hesperia.gsfc.nasa.gov/rhessi_extras/imagecube_fits/2015/12/20/20151220_2228_2248/hsi_imagecube_clean_20151220_2228_13tx3e.fits\n"
     ]
    }
   ],
   "source": [
    "thumbs_url = r[-1][\"thumbnail_url\"].decode(\"utf8\") if type(r[-1][\"thumbnail_url\"]) == bytes else r[-1][\"thumbnail_url\"]\n",
    "url = r[-1][\"access_url\"].decode(\"utf8\") if type(r[-1][\"access_url\"]) == bytes else r[-1][\"access_url\"]\n",
    "\n",
    "print(\"preview:\", thumbs_url)\n",
    "print(\"FITS-access:\", url)"
   ]
  },
  {
   "cell_type": "code",
   "execution_count": 4,
   "metadata": {},
   "outputs": [],
   "source": [
    "maps = imagecube2map(url)  # sunpy 3.0.1 has a bug where read_file fails with URLs on Windows. Downgrade to 3.0.0"
   ]
  },
  {
   "cell_type": "code",
   "execution_count": 5,
   "metadata": {},
   "outputs": [],
   "source": [
    "# OPTIONAL: omit JHV gamma correction by saving values as bytes\n",
    "from sunpy.map import Map\n",
    "for eb in maps.keys():\n",
    "    for i in range(len(maps[eb])):\n",
    "        dmin = maps[eb][i].fits_header['DATAMIN']\n",
    "        dmax = maps[eb][i].fits_header['DATAMAX']\n",
    "        if dmax == 0:\n",
    "            maps[eb][i]._data = maps[eb][i].data.astype('uint8')\n",
    "        else:\n",
    "            maps[eb][i]._data = ((maps[eb][i].data.clip(dmin, dmax) - dmin) / dmax * 255).astype('uint8')"
   ]
  },
  {
   "cell_type": "code",
   "execution_count": 6,
   "metadata": {
    "scrolled": true
   },
   "outputs": [],
   "source": [
    "# send map layers via SAMP to JHV - make sure JHV > 2.16 is running\n",
    "c = SAMP4JHVClient()\n",
    "for energy_band in maps.keys():\n",
    "    c.send_image_maps(maps[energy_band])"
   ]
  },
  {
   "cell_type": "code",
   "execution_count": 7,
   "metadata": {},
   "outputs": [
    {
     "name": "stderr",
     "output_type": "stream",
     "text": [
      "WARNING: FITSFixedWarning: 'datfix' made the change 'Invalid DATEREF format '1979.00 '.\n",
      "Set MJD-OBS to 57376.943208 from DATE-OBS'. [astropy.wcs.wcs]\n",
      "WARNING: FITSFixedWarning: 'datfix' made the change 'Invalid DATEREF format '1979.00' is too short'. [astropy.wcs.wcs]\n",
      "C:\\Users\\Silvan\\Anaconda3\\envs\\py39\\lib\\site-packages\\sunpy\\util\\decorators.py:378: SunpyMetadataWarning: Missing metadata for observer: assuming Earth-based observer.\n",
      "\n",
      "  new_val = prop(instance)\n"
     ]
    },
    {
     "data": {
      "image/png": "[encoded data removed]",
      "text/plain": [
       "<Figure size 432x288 with 2 Axes>"
      ]
     },
     "metadata": {
      "needs_background": "light"
     },
     "output_type": "display_data"
    }
   ],
   "source": [
    "# (optional) preview example map\n",
    "import matplotlib.pyplot as plt\n",
    "plt.figure()\n",
    "maps['12-25 keV'][6].plot(cmap=\"std_gamma_2\")\n",
    "plt.colorbar()\n",
    "plt.show()"
   ]
  },
  {
   "cell_type": "code",
   "execution_count": 8,
   "metadata": {},
   "outputs": [],
   "source": [
    "c.remove_tmp_files()  # (optional) cleanup when done -- after this the images might not display correctly in JHV!"
   ]
  }
 ],
 "metadata": {
  "kernelspec": {
   "display_name": "Python 3 (ipykernel)",
   "language": "python",
   "name": "python3"
  },
  "language_info": {
   "codemirror_mode": {
    "name": "ipython",
    "version": 3
   },
   "file_extension": ".py",
   "mimetype": "text/x-python",
   "name": "python",
   "nbconvert_exporter": "python",
   "pygments_lexer": "ipython3",
   "version": "3.9.7"
  }
 },
 "nbformat": 4,
 "nbformat_minor": 2
}
