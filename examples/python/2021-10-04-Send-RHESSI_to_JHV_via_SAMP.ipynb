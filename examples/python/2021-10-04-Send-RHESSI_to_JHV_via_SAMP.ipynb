{
 "cells": [
  {
   "cell_type": "markdown",
   "metadata": {},
   "source": [
    "### Sample UseCase to send RHESSI limb flare to JHV\n",
    "S. Laube, FHNW\n",
    "\n",
    "This is a demo for the [samp4jhv package](https://github.com/Helioviewer-Project/samp4jhv). JHV stands for JHelioviewer, SAMP is a mechanism to transfer data from an application to another.\n",
    "\n",
    "The demo requires the following packages:\n",
    "- astropy 4.1+\n",
    "- sunpy 2.0+  \n",
    "- sunkit-instruments 0.2+  \n",
    "- pyvo  \n",
    "\n",
    "\n",
    " **Also, make sure you are running JHelioviewer 4.0 or higher - the app has to be open during execution of this script**"
   ]
  },
  {
   "cell_type": "code",
   "execution_count": 1,
   "metadata": {},
   "outputs": [
    {
     "name": "stdout",
     "output_type": "stream",
     "text": [
      "C:\\Projects\\JHV\\Python\\samp4jhv\n"
     ]
    },
    {
     "name": "stderr",
     "output_type": "stream",
     "text": [
      "c:\\projects\\jhv\\python\\sunkit-instruments\\sunkit_instruments\\version.py:13: UserWarning: could not determine sunkit_instruments package version; this indicates a broken installation\n",
      "  f'could not determine {__name__.split(\".\")[0]} package version; this indicates a broken installation'\n"
     ]
    }
   ],
   "source": [
    "%cd ../..\n",
    "# use magic jupyter command to move to root directory of the samp4jhv module\n",
    "\n",
    "import pyvo\n",
    "from sunkit_instruments.rhessi import imagecube2map # requires sunkit-instruments v0.2\n",
    "from samp4jhv import SAMP4JHVClient"
   ]
  },
  {
   "cell_type": "code",
   "execution_count": 2,
   "metadata": {},
   "outputs": [
    {
     "data": {
      "text/plain": [
       "<Table length=114>\n",
       " granule_uid                 granule_gid               ... goes_class limb_flare\n",
       "                                                       ...                      \n",
       "    object                      object                 ...   object      bool   \n",
       "-------------- --------------------------------------- ... ---------- ----------\n",
       "15030305_clean RHESSI flare image reconstruction CLEAN ...       M8.2       True\n",
       "15032103_clean RHESSI flare image reconstruction CLEAN ...       C1.4       True\n",
       "15041301_clean RHESSI flare image reconstruction CLEAN ...       C4.3       True\n",
       "15042306_clean RHESSI flare image reconstruction CLEAN ...       C2.2       True\n",
       "15050408_clean RHESSI flare image reconstruction CLEAN ...       C3.0       True\n",
       "15050443_clean RHESSI flare image reconstruction CLEAN ...       C5.1       True\n",
       "15060920_clean RHESSI flare image reconstruction CLEAN ...                  True\n",
       "15061041_clean RHESSI flare image reconstruction CLEAN ...       C1.5       True\n",
       "15061168_clean RHESSI flare image reconstruction CLEAN ...                  True\n",
       "           ...                                     ... ...        ...        ...\n",
       "14050709_clean RHESSI flare image reconstruction CLEAN ...       C3.6       True\n",
       "14060804_clean RHESSI flare image reconstruction CLEAN ...                  True\n",
       "14090332_clean RHESSI flare image reconstruction CLEAN ...      M2.5*       True\n",
       "14091144_clean RHESSI flare image reconstruction CLEAN ...       M2.1       True\n",
       "14091152_clean RHESSI flare image reconstruction CLEAN ...      M1.4*       True\n",
       "14100259_clean RHESSI flare image reconstruction CLEAN ...       C3.6       True\n",
       "14102247_clean RHESSI flare image reconstruction CLEAN ...       M1.4       True\n",
       "14103102_clean RHESSI flare image reconstruction CLEAN ...       C8.2       True\n",
       "14110321_clean RHESSI flare image reconstruction CLEAN ...       M2.2       True\n",
       "14122521_clean RHESSI flare image reconstruction CLEAN ...                  True"
      ]
     },
     "execution_count": 2,
     "metadata": {},
     "output_type": "execute_result"
    }
   ],
   "source": [
    "serv = pyvo.dal.TAPService(\"https://tap.cs.technik.fhnw.ch/tap\")\n",
    "r = serv.run_sync(\"SELECT * FROM rhessi_flares.epn_core WHERE granule_uid LIKE '%_clean' and limb_flare = 'True'\")\n",
    "r"
   ]
  },
  {
   "cell_type": "code",
   "execution_count": 3,
   "metadata": {},
   "outputs": [
    {
     "name": "stdout",
     "output_type": "stream",
     "text": [
      "preview: https://hesperia.gsfc.nasa.gov/rhessi_extras/flare_images/2014/12/25/20141225_0844_0856/CLEAN/hsi_image_panels_scaled_20141225_0845_0855_9tx3e.jpeg\n",
      "FITS-access: https://hesperia.gsfc.nasa.gov/rhessi_extras/imagecube_fits/2014/12/25/20141225_0844_0856/hsi_imagecube_clean_20141225_0845_9tx3e.fits\n"
     ]
    }
   ],
   "source": [
    "thumbs_url = r[-1][\"thumbnail_url\"].decode(\"utf8\") if type(r[-1][\"thumbnail_url\"]) == bytes else r[-1][\"thumbnail_url\"]\n",
    "url = r[-1][\"access_url\"].decode(\"utf8\") if type(r[-1][\"access_url\"]) == bytes else r[-1][\"access_url\"]\n",
    "\n",
    "print(\"preview:\", thumbs_url)\n",
    "print(\"FITS-access:\", url)"
   ]
  },
  {
   "cell_type": "code",
   "execution_count": 4,
   "metadata": {},
   "outputs": [],
   "source": [
    "maps = imagecube2map(url)  # sunpy 3.0.1 has a bug where read_file fails with URLs on Windows. use 3.0.0 or 3.1+"
   ]
  },
  {
   "cell_type": "code",
   "execution_count": 5,
   "metadata": {},
   "outputs": [],
   "source": [
    "# OPTIONAL: omit JHV gamma correction by saving values as bytes\n",
    "from sunpy.map import Map\n",
    "for eb in maps.keys():\n",
    "    for i in range(len(maps[eb])):\n",
    "        dmin = maps[eb][i].fits_header['DATAMIN']\n",
    "        dmax = maps[eb][i].fits_header['DATAMAX']\n",
    "        if dmax == 0:\n",
    "            maps[eb][i]._data = maps[eb][i].data.astype('uint8')\n",
    "        else:\n",
    "            maps[eb][i]._data = ((maps[eb][i].data.clip(dmin, dmax) - dmin) / dmax * 255).astype('uint8')"
   ]
  },
  {
   "cell_type": "code",
   "execution_count": 6,
   "metadata": {
    "scrolled": true
   },
   "outputs": [],
   "source": [
    "# send map layers via SAMP to JHV - make sure JHV > 2.16 is running\n",
    "c = SAMP4JHVClient()\n",
    "for energy_band in maps.keys():\n",
    "    c.send_image_maps(maps[energy_band])"
   ]
  },
  {
   "cell_type": "code",
   "execution_count": 7,
   "metadata": {},
   "outputs": [
    {
     "name": "stdout",
     "output_type": "stream",
     "text": [
      "INFO: Missing metadata for solar radius: assuming the standard radius of the photosphere. [sunpy.map.mapbase]\n"
     ]
    },
    {
     "name": "stderr",
     "output_type": "stream",
     "text": [
      "WARNING: SunpyMetadataWarning: Missing metadata for observer: assuming Earth-based observer.\n",
      " [sunpy.map.mapbase]\n"
     ]
    },
    {
     "data": {
      "image/png": "[encoded data removed]",
      "text/plain": [
       "<Figure size 432x288 with 2 Axes>"
      ]
     },
     "metadata": {
      "needs_background": "light"
     },
     "output_type": "display_data"
    }
   ],
   "source": [
    "# (optional) preview example map\n",
    "import matplotlib.pyplot as plt\n",
    "plt.figure()\n",
    "maps['12-25 keV'][6].plot(cmap=\"std_gamma_2\")\n",
    "plt.colorbar()\n",
    "plt.show()"
   ]
  },
  {
   "cell_type": "code",
   "execution_count": 8,
   "metadata": {},
   "outputs": [],
   "source": [
    "c.remove_tmp_files()  # (optional) cleanup when done -- after this the images might not display correctly in JHV!"
   ]
  }
 ],
 "metadata": {
  "kernelspec": {
   "display_name": "Python 3",
   "language": "python",
   "name": "python3"
  },
  "language_info": {
   "codemirror_mode": {
    "name": "ipython",
    "version": 3
   },
   "file_extension": ".py",
   "mimetype": "text/x-python",
   "name": "python",
   "nbconvert_exporter": "python",
   "pygments_lexer": "ipython3",
   "version": "3.7.2"
  }
 },
 "nbformat": 4,
 "nbformat_minor": 2
}
