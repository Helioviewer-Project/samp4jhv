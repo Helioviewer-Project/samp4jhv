{
 "cells": [
  {
   "cell_type": "markdown",
   "metadata": {},
   "source": [
    "### Extract IRIS SJI cubes into single FITS-images\n",
    "This is a preparation step in order to load IRIS SJI into JHV. It does not contain downloading the original IRIS files."
   ]
  },
  {
   "cell_type": "code",
   "execution_count": 2,
   "metadata": {},
   "outputs": [],
   "source": [
    "import os\n",
    "import pyvo  # !pip install pyvo\n",
    "import numpy as np\n",
    "from sunpy.map import Map\n",
    "from irisreader import observation"
   ]
  },
  {
   "cell_type": "code",
   "execution_count": 3,
   "metadata": {},
   "outputs": [
    {
     "data": {
      "text/plain": [
       "<Table length=201>\n",
       "          obs_id           ... supersonic_downflows\n",
       "          object           ...        int32        \n",
       "-------------------------- ... --------------------\n",
       "20150408_003144_3800600036 ...                14200\n",
       "20150813_113412_3600600039 ...                14097\n",
       "20150815_103942_3600600039 ...                12187\n",
       "20130830_232946_4000257165 ...                 9836\n",
       "20150814_113012_3600600039 ...                 8472\n",
       "20150627_072544_3625581135 ...                 8290\n",
       "20131023_142944_3823251483 ...                 8021\n",
       "20150307_121344_3800600036 ...                 7839\n",
       "20141204_181904_3800100083 ...                 7836\n",
       "20160128_115744_3680600932 ...                 6731\n",
       "                       ... ...                  ...\n",
       "20150410_195243_3800100082 ...                 1081\n",
       "20150529_075615_3820256897 ...                 1078\n",
       "20150108_022532_3823250065 ...                 1074\n",
       "20160121_123744_3680100932 ...                 1074\n",
       "20150422_041924_3823601388 ...                 1070\n",
       "20140626_075917_3823257653 ...                 1058\n",
       "20180526_055016_3638100037 ...                 1036\n",
       "20140522_175941_3823507188 ...                 1035\n",
       "20130929_154002_4000251147 ...                 1024\n",
       "20150305_154649_3820100177 ...                 1004"
      ]
     },
     "execution_count": 3,
     "metadata": {},
     "output_type": "execute_result"
    }
   ],
   "source": [
    "# get observations and iris annotations via TAP, select those with many spectra that were classified as supersonic downflows\n",
    "serv = pyvo.dal.TAPService(\"https://tap.cs.technik.fhnw.ch/tap\")  # May 2022 \"crobs4\"\n",
    "\n",
    "join = \"iris_obs.epn_core as a inner join iris_obs.cr_events as b on a.granule_uid = b.obs_id\"\n",
    "fields = \"a.obs_id,a.raster_lines,a.sji_lines,b.supersonic_downflows\" # ,a.hek_url\n",
    "filt = \"supersonic_downflows > 999 and a.raster_lines LIKE '%Si IV 1394%'\"\n",
    "r = serv.run_sync(f\"select {fields} from {join} where {filt} ORDER BY supersonic_downflows DESC\")\n",
    "\n",
    "r"
   ]
  },
  {
   "cell_type": "code",
   "execution_count": null,
   "metadata": {},
   "outputs": [],
   "source": [
    "%%time\n",
    "# extract top50 and save to NAS - this can take a while (50 obs took 1:42:10)\n",
    "\n",
    "# settings\n",
    "base_folder = \"/nas08-data02/silvan/cr_obs3\"\n",
    "quantile = 99.9  # 99.9 -> ~1350px, 99.99 -> ~140px\n",
    "sji_line_gamma = {\n",
    "    'C II 1330': [0.4],\n",
    "    'Si IV 1400': [0.4],\n",
    "    'Mg II h&k 2796': [0.4, 1],\n",
    "    'Mg II wing 2832': [1]\n",
    "}\n",
    "\n",
    "\"\"\" 1. iterate through (top n) results and read obs \"\"\"\n",
    "for ob in range(0,50):\n",
    "    obsid = r[ob]['obs_id']\n",
    "    if type(obsid) == bytes:\n",
    "        obsid = obsid.decode('utf-8') # decode obsid-string if necessary - astropy votable seems to use bytes..\n",
    "    if not os.path.exists(f\"/data2/iris/{obsid[0:4]}/{obsid[4:6]}/{obsid[6:8]}/{obsid}/\"):\n",
    "        print(f\"skipped obs: {obsid} (data after 2015 currently unavailable)\")\n",
    "        continue\n",
    "    obs = observation(f\"/data2/iris/{obsid[0:4]}/{obsid[4:6]}/{obsid[6:8]}/{obsid}/\") # read obs\n",
    "    \n",
    "    \"\"\" 2. iterate through SJI-lines of current obs \"\"\"\n",
    "    sji_line_desc = [line.replace(\"/\",\"&\") for line in obs.sji.get_lines()['description']]  # replace / with & to avoid 2 nested folders\n",
    "    for idx_sji in range(obs.n_sji):\n",
    "        n = len(obs.sji[idx_sji].headers)\n",
    "        \n",
    "        \"\"\" 3. get quantile of all images in this line \"\"\"\n",
    "        exptimes = obs.sji[idx_sji].get_exptimes()\n",
    "        data_max = 0  # max\n",
    "        for i in range(n):  # find data_max\n",
    "            data_max = max(data_max, np.percentile(obs.sji[idx_sji].get_image_step(i), quantile) / exptimes[i])\n",
    "\n",
    "        \"\"\" 4. select gamma correction - for line 2796 we generate 2 versions \"\"\"\n",
    "        for gamma in sji_line_gamma[sji_line_desc[idx_sji]]:\n",
    "            folder = f\"{base_folder}/{obsid}/{sji_line_desc[idx_sji]}\"\n",
    "            if gamma == 1:  # len(ji_line_gamma[sji_line_desc[idx_sji]]) > 1 and \n",
    "                folder += \"_linear\"  # add linear term to folder\n",
    "            \n",
    "            \"\"\" 5. create output folder - skip if already exists \"\"\"\n",
    "            if os.path.exists(folder):\n",
    "                print(f\"skipped line: {folder} (already exists)\")\n",
    "                continue\n",
    "            os.makedirs(folder)\n",
    "\n",
    "            \"\"\" 6. save single images with in JHV-friendly format. Value 0 is used for invalid (=transparent) pixels \"\"\"\n",
    "            for i in range(n):\n",
    "                h = obs.sji[idx_sji].headers[i]\n",
    "                h['HV_DMIN'] = 0  # instead of DATAMIN/MAX\n",
    "                h['BLANK'] = 0\n",
    "                data = obs.sji[idx_sji].get_image_step(i).copy()\n",
    "                idxtbl = data==-200  # invalid pixels\n",
    "                data /= exptimes[i]\n",
    "                h['HV_DMAX'] = data_max\n",
    "                data = data.clip(h['HV_DMIN'], h['HV_DMAX'])   #  + (h['HV_DMAX']/255)\n",
    "                data = data**gamma  # gamma correction\n",
    "                h['HV_DMAX'] = h['HV_DMAX']**gamma  # gamma correction\n",
    "                data = ((data - h['HV_DMIN']) / h['HV_DMAX'] * 254).astype('uint8') + 1\n",
    "                data[idxtbl] = 0\n",
    "\n",
    "                Map(data, h).save(f\"{folder}/{i}.fits\")  # save\n",
    "        "
   ]
  }
 ],
 "metadata": {
  "kernelspec": {
   "display_name": "Python 3 (ipykernel)",
   "language": "python",
   "name": "python3"
  },
  "language_info": {
   "codemirror_mode": {
    "name": "ipython",
    "version": 3
   },
   "file_extension": ".py",
   "mimetype": "text/x-python",
   "name": "python",
   "nbconvert_exporter": "python",
   "pygments_lexer": "ipython3",
   "version": "3.9.7"
  }
 },
 "nbformat": 4,
 "nbformat_minor": 2
}
